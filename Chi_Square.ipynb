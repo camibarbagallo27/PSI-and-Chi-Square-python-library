{
 "cells": [
  {
   "cell_type": "markdown",
   "metadata": {
    "colab_type": "text",
    "id": "_jPvajbygyfg"
   },
   "source": [
    "## 1. Import Libraries\n",
    "\n",
    "Import the libraries needed to run the notebook."
   ]
  },
  {
   "cell_type": "code",
   "execution_count": 1,
   "metadata": {
    "colab": {},
    "colab_type": "code",
    "id": "mMo2zKjTgSrj"
   },
   "outputs": [],
   "source": [
    "import numpy as np\n",
    "import pandas as pd"
   ]
  },
  {
   "cell_type": "markdown",
   "metadata": {},
   "source": [
    "Import class to create bold print statements."
   ]
  },
  {
   "cell_type": "code",
   "execution_count": 2,
   "metadata": {},
   "outputs": [],
   "source": [
    "class color:\n",
    "  BOLD = '\\033[1m'\n",
    "  END = '\\033[0m'"
   ]
  },
  {
   "cell_type": "markdown",
   "metadata": {
    "colab_type": "text",
    "id": "87FmbOZDg56w"
   },
   "source": [
    "## 2. Create Random Sample\n",
    "\n",
    "Create the random sample to test the function."
   ]
  },
  {
   "cell_type": "code",
   "execution_count": 3,
   "metadata": {
    "colab": {},
    "colab_type": "code",
    "id": "KTKjRtRaCsXp"
   },
   "outputs": [],
   "source": [
    "rs = np.random.RandomState(42)\n",
    "\n",
    "initial = rs.normal(size = 100)\n",
    "final = rs.normal(loc = 0.2, size = 120)"
   ]
  },
  {
   "cell_type": "markdown",
   "metadata": {
    "colab_type": "text",
    "id": "gwPuTrDqhLPr"
   },
   "source": [
    "## 3. Create function\n",
    "\n",
    "Create the function to calculate the chi-square."
   ]
  },
  {
   "cell_type": "code",
   "execution_count": 4,
   "metadata": {
    "colab": {},
    "colab_type": "code",
    "id": "fBQ5pv6LhOQ6"
   },
   "outputs": [],
   "source": [
    "def calculate_chisquare(expected, observed, buckettype = 'bins', buckets = 10, axis = 0):\n",
    "  '''Calculate the Chi-Square across all variables\n",
    "\n",
    "    Args:\n",
    "       expected: numpy matrix of original values\n",
    "       observed: numpy matrix of new values, same size as expected\n",
    "       buckettype: type of strategy for creating buckets, bins splits into even splits, quantiles splits into quantile buckets\n",
    "       buckets: number of quantiles to use in bucketing variables\n",
    "       axis: axis by which variables are defined, 0 for vertical, 1 for horizontal\n",
    "\n",
    "    Returns:\n",
    "       chi_square_values: ndarray of chi-square values for each variable\n",
    "\n",
    "    '''\n",
    "\n",
    "  def chi_square (expected_array, observed_array, buckets):\n",
    "    '''Calculate the Chi-Square for a single variable\n",
    "\n",
    "        Args:\n",
    "           expected_array: numpy array of original values\n",
    "           observed_array: numpy array of new values, same size as expected\n",
    "           buckets: number of percentile ranges to bucket the values into\n",
    "\n",
    "        Returns:\n",
    "           chi_square_value: calculated Chi-Square value\n",
    "        '''\n",
    "    # Create the buckets, by establishing the scale range and breakpoints.\n",
    "    def scale_range (input, min, max):\n",
    "      input += -(np.min(input))\n",
    "      input /= np.max(input) / (max - min)\n",
    "      input += min\n",
    "      return input\n",
    "\n",
    "    breakpoints = np.arange(0, buckets + 1) / (buckets) * 100\n",
    "\n",
    "    if buckettype == 'bins':\n",
    "      breakpoints = scale_range(breakpoints, np.min(expected_array), np.max(expected_array))\n",
    "    elif buckettype == 'quantiles':\n",
    "      breakpoints = np.stack([np.percentile(expected_array, b) for b in breakpoints])\n",
    "\n",
    "    expected_percents = np.histogram(expected_array, breakpoints)[0] / len(expected_array)\n",
    "    observed_percents = np.histogram(observed_array, breakpoints)[0] / len(observed_array)\n",
    "\n",
    "    def sub_chisquare(e_perc, o_perc):\n",
    "      '''Calculate the observed Chi-Square value from comparing the values.\n",
    "         Update the observed value to a very small number if equal to zero.\n",
    "      '''\n",
    "      if o_perc == 0:\n",
    "        o_perc = 0.0001\n",
    "      if e_perc == 0:\n",
    "        e_perc = 0.0001\n",
    "\n",
    "      value = ((e_perc - o_perc)**2)/e_perc\n",
    "      return(value)\n",
    "\n",
    "    # Calculate the overall chi-square value. \n",
    "    chi_square_value = np.sum(sub_chisquare(expected_percents[i], observed_percents[i]) for i in range(0, len(expected_percents)))\n",
    "    return(chi_square_value)\n",
    "\n",
    "  if len(expected.shape) == 1:\n",
    "    chi_square_values = np.empty(len(expected.shape))\n",
    "  else:\n",
    "    chi_square_values = np.empty(expected.shape[axis])\n",
    "\n",
    "  # Adapt the calculation to the axis: vertical or horizontal.\n",
    "  for i in range(0, len(chi_square_values)):\n",
    "    if len(chi_square_values) == 1:\n",
    "      chi_square_values = chi_square(expected, observed, buckets)\n",
    "    elif axis == 0:\n",
    "      chi_square_values[i] = chi_square(expected[:,i], observed[:,i], buckets)\n",
    "    elif axis == 1:\n",
    "      chi_square_values[i] = chi_square(expected[i,:], observed[i,:], buckets)\n",
    "  #print(\"Observed Chi-Square =\", chi_square_values)\n",
    "  return(chi_square_values)"
   ]
  },
  {
   "cell_type": "code",
   "execution_count": 5,
   "metadata": {
    "colab": {
     "base_uri": "https://localhost:8080/",
     "height": 74
    },
    "colab_type": "code",
    "executionInfo": {
     "elapsed": 644,
     "status": "ok",
     "timestamp": 1581610528372,
     "user": {
      "displayName": "Paula García",
      "photoUrl": "https://lh3.googleusercontent.com/a-/AAuE7mCj8icn1SlBnA1acDltgKUI6dHyael51h4K4d9y=s64",
      "userId": "11785220129244425743"
     },
     "user_tz": -60
    },
    "id": "WPqbAccKSuRF",
    "outputId": "4b9948e7-8b4c-4cbc-9000-946d20875568"
   },
   "outputs": [
    {
     "name": "stderr",
     "output_type": "stream",
     "text": [
      "/Users/rocio/anaconda3/lib/python3.7/site-packages/ipykernel_launcher.py:57: DeprecationWarning: Calling np.sum(generator) is deprecated, and in the future will give a different result. Use np.sum(np.fromiter(generator)) or the python sum builtin instead.\n"
     ]
    },
    {
     "data": {
      "text/plain": [
       "0.22665108455370453"
      ]
     },
     "execution_count": 5,
     "metadata": {},
     "output_type": "execute_result"
    }
   ],
   "source": [
    "calculate_chisquare(initial, final, buckettype = 'bins', buckets = 10, axis = 0)"
   ]
  },
  {
   "cell_type": "code",
   "execution_count": 6,
   "metadata": {
    "colab": {},
    "colab_type": "code",
    "id": "E9wCAZp_NmmI"
   },
   "outputs": [],
   "source": [
    "def calculate_pvalue(expected, observed, buckettype = 'bins', buckets = 10, axis = 0):\n",
    "  '''Calculate the pvalue from a chi-square test.\n",
    "\n",
    "    Args:\n",
    "       expected: numpy matrix of original values\n",
    "       observed: numpy matrix of new values, same size as expected\n",
    "       buckettype: type of strategy for creating buckets, bins splits into even splits, quantiles splits into quantile buckets\n",
    "       buckets: number of quantiles to use in bucketing variables\n",
    "       axis: axis by which variables are defined, 0 for vertical, 1 for horizontal\n",
    "\n",
    "    Returns:\n",
    "       p_value: calculated p-value\n",
    "       \n",
    "    '''\n",
    "  # Create bootstrap sample\n",
    "  data = pd.DataFrame([])\n",
    "  for i in np.arange(1000):\n",
    "    bs_sample = np.random.choice(expected,len(expected))\n",
    "    calculated_chi=calculate_chisquare(expected, bs_sample, buckettype, buckets, axis)\n",
    "    data = data.append(pd.DataFrame({'calculated_chi_square': calculated_chi}, index=[0]), ignore_index=True)\n",
    "\n",
    "  # Calculate the p-value\n",
    "  ## Calculate the chi-square for the random sample.\n",
    "  observed_calculated_chisquare = calculate_chisquare(expected, observed, buckettype, buckets, axis)\n",
    "  ## Get the p-value for this chi-square.\n",
    "  p_value = sum(data['calculated_chi_square'] > observed_calculated_chisquare) / len(data)\n",
    "\n",
    "  if p_value <= 0.001:\n",
    "    print('P-value = ',p_value, '***' )\n",
    "    print('H0: The observed frequency distribution fits the expected frequency distribution.')\n",
    "    print('*** rejects null hypothesis for an alpha of 0.1% \\n**  rejects null hypothesis for an alpha of 1% \\n *  rejects null hypothesis for an alpha of 5%')\n",
    "  elif (p_value > 0.001 and p_value <= 0.01):\n",
    "    print('P-value = ',p_value, '**')\n",
    "    print('H0: The observed frequency distribution fits the expected frequency distribution.')\n",
    "    print('*** rejects null hypothesis for an alpha of 0.1% \\n**  rejects null hypothesis for an alpha of 1% \\n *  rejects null hypothesis for an alpha of 5%')\n",
    "  elif (p_value > 0.01 and p_value <= 0.05):\n",
    "    print('P-value = ',p_value, '*' )\n",
    "    print('H0: The observed frequency distribution fits the expected frequency distribution.')\n",
    "    print('*** rejects null hypothesis for an alpha of 0.1% \\n**  rejects null hypothesis for an alpha of 1% \\n *  rejects null hypothesis for an alpha of 5%')\n",
    "  else:\n",
    "    print('P-value = ',p_value)\n",
    "    print('H0: The observed frequency distribution fits the expected frequency distribution.')\n",
    "    print('*** rejects null hypothesis for an alpha of 0.1% \\n**  rejects null hypothesis for an alpha of 1% \\n *  rejects null hypothesis for an alpha of 5%')"
   ]
  },
  {
   "cell_type": "code",
   "execution_count": 7,
   "metadata": {
    "colab": {
     "base_uri": "https://localhost:8080/",
     "height": 105
    },
    "colab_type": "code",
    "executionInfo": {
     "elapsed": 2287,
     "status": "ok",
     "timestamp": 1581629518291,
     "user": {
      "displayName": "Rocío González",
      "photoUrl": "",
      "userId": "17927992441049126687"
     },
     "user_tz": -60
    },
    "id": "pEqggWyKUOZ1",
    "outputId": "a7cecb26-529e-4049-a81d-e8cbbf8abf8c"
   },
   "outputs": [
    {
     "name": "stderr",
     "output_type": "stream",
     "text": [
      "/Users/rocio/anaconda3/lib/python3.7/site-packages/ipykernel_launcher.py:57: DeprecationWarning: Calling np.sum(generator) is deprecated, and in the future will give a different result. Use np.sum(np.fromiter(generator)) or the python sum builtin instead.\n"
     ]
    },
    {
     "name": "stdout",
     "output_type": "stream",
     "text": [
      "P-value =  0.008 **\n",
      "H0: The observed frequency distribution fits the expected frequency distribution.\n",
      "*** rejects null hypothesis for an alpha of 0.1% \n",
      "**  rejects null hypothesis for an alpha of 1% \n",
      " *  rejects null hypothesis for an alpha of 5%\n"
     ]
    }
   ],
   "source": [
    "calculate_pvalue(initial, final, buckettype = 'bins', buckets = 10, axis = 0)"
   ]
  },
  {
   "cell_type": "code",
   "execution_count": 8,
   "metadata": {
    "colab": {},
    "colab_type": "code",
    "id": "q8a2mfG-SUKZ"
   },
   "outputs": [],
   "source": [
    "def calculate_chi(expected, observed, buckettype = 'bins', buckets = 10, axis = 0):\n",
    "  '''Runs a complete chi-square study, including chi-square value and p-value from the data.\n",
    "\n",
    "    Args:\n",
    "       expected: numpy matrix of original values\n",
    "       observed: numpy matrix of new values, same size as expected\n",
    "       buckettype: type of strategy for creating buckets, bins splits into even splits, quantiles splits into quantile buckets\n",
    "       buckets: number of quantiles to use in bucketing variables\n",
    "       axis: axis by which variables are defined, 0 for vertical, 1 for horizontal\n",
    "\n",
    "    Returns:\n",
    "       p_value: calculated p-value\n",
    "       observed_calculated_chisquare: chi-square from the data\n",
    "       critical_value: critical values from the distribution\n",
    "\n",
    "\n",
    "    '''\n",
    "  # Create bootstrap sample\n",
    "  data = pd.DataFrame([])\n",
    "  for i in np.arange(1000):\n",
    "    bs_sample = np.random.choice(expected,len(expected))\n",
    "    calculated_chi=calculate_chisquare(expected, bs_sample, buckettype, buckets, axis)\n",
    "    data = data.append(pd.DataFrame({'calculated_chi_square': calculated_chi}, index=[0]), ignore_index=True)\n",
    "\n",
    "  # Get critical values\n",
    "  ## 5%\n",
    "  critical_value_05_initial = data.quantile(0.95)\n",
    "  critical_value_05_final = critical_value_05_initial['calculated_chi_square']\n",
    "\n",
    "  ## 1%\n",
    "  critical_value_01_initial = data.quantile(0.99)\n",
    "  critical_value_01_final = critical_value_01_initial['calculated_chi_square']\n",
    "\n",
    "  ## 0.01%\n",
    "  critical_value_001_initial = data.quantile(0.999)\n",
    "  critical_value_001_final = critical_value_001_initial['calculated_chi_square']\n",
    "\n",
    "  # Calculate the p-value\n",
    "  ## Calculate the chi-square for the random sample.\n",
    "  observed_calculated_chisquare = calculate_chisquare(expected, observed, buckettype, buckets, axis)\n",
    "  ## Get the p-value for this chi-square.\n",
    "  p_value = sum(data['calculated_chi_square'] > observed_calculated_chisquare) / len(data)\n",
    "\n",
    "  if p_value <= 0.001:\n",
    "    print(color.BOLD +\"Observed Chi-Square = \" + color.END, observed_calculated_chisquare)\n",
    "    print(color.BOLD +\"Critical Chi-Square Value for 0.1% = \" + color.END , critical_value_001_final)\n",
    "    print(color.BOLD+'H0:'+color.END + 'The observed frequency distribution fits the expected frequency distribution.')\n",
    "    print(color.BOLD+'P-value = '+color.END ,p_value, '***' )\n",
    "    print(color.BOLD+'*** '+color.END + 'rejects null hypothesis for an alpha of 0.1%')\n",
    "    print(color.BOLD+'**  '+color.END +'rejects null hypothesis for an alpha of 1%')\n",
    "    print('*   ' + color.BOLD+ 'rejects null hypothesis for an alpha of 5%')\n",
    "  elif (p_value > 0.001 and p_value <= 0.01):\n",
    "    print(color.BOLD +\"Observed Chi-Square = \"+ color.END , observed_calculated_chisquare)\n",
    "    print(color.BOLD +\"Critical Chi-Square Value for 1% = \"+ color.END , critical_value_01_final)\n",
    "    print(color.BOLD +'P-value = '+ color.END ,p_value, '**')\n",
    "    print(color.BOLD +'H0:'+ color.END + 'The observed frequency distribution fits the expected frequency distribution.')\n",
    "    print(color.BOLD + '*** ' + color.END + 'rejects null hypothesis for an alpha of 0.1%')\n",
    "    print(color.BOLD + '**  ' + color.END + 'rejects null hypothesis for an alpha of 1%')\n",
    "    print(color.BOLD + '*   ' + color.END + 'rejects null hypothesis for an alpha of 5%')\n",
    "  elif (p_value > 0.01 and p_value <= 0.05):\n",
    "    print(color.BOLD +\"Observed Chi-Square = \"+ color.END , observed_calculated_chisquare)\n",
    "    print(color.BOLD +\"Critical Chi-Square Value for 5% = \"+ color.END , critical_value_05_final)\n",
    "    print(color.BOLD +'P-value = '+ color.END , p_value, '*' )\n",
    "    print(color.BOLD +'H0:' + color.END + 'The observed frequency distribution fits the expected frequency distribution.')\n",
    "    print(color.BOLD + '*** ' + color.END + 'rejects null hypothesis for an alpha of 0.1%')\n",
    "    print(color.BOLD + '**  ' + color.END + 'rejects null hypothesis for an alpha of 1%')\n",
    "    print(color.BOLD + '*   ' + color.END + 'rejects null hypothesis for an alpha of 5%')\n",
    "  else:\n",
    "    print(color.BOLD +\"Observed Chi-Square = \"+ color.END , observed_calculated_chisquare)\n",
    "    print(color.BOLD +'P-value = '+ color.END ,p_value)\n",
    "    print(color.BOLD +'H0:' + color.END + 'The observed frequency distribution fits the expected frequency distribution.')\n",
    "    print(color.BOLD + '*** ' + color.END + 'rejects null hypothesis for an alpha of 0.1%')\n",
    "    print(color.BOLD + '**  ' + color.END + 'rejects null hypothesis for an alpha of 1%')\n",
    "    print(color.BOLD + '*   ' + color.END + 'rejects null hypothesis for an alpha of 5%')"
   ]
  },
  {
   "cell_type": "code",
   "execution_count": 9,
   "metadata": {
    "colab": {
     "base_uri": "https://localhost:8080/",
     "height": 146
    },
    "colab_type": "code",
    "executionInfo": {
     "elapsed": 1807,
     "status": "ok",
     "timestamp": 1581610566778,
     "user": {
      "displayName": "Paula García",
      "photoUrl": "https://lh3.googleusercontent.com/a-/AAuE7mCj8icn1SlBnA1acDltgKUI6dHyael51h4K4d9y=s64",
      "userId": "11785220129244425743"
     },
     "user_tz": -60
    },
    "id": "mMpu6WDSPqlc",
    "outputId": "bf731463-2fc3-48dd-fa6d-06c199f186b6"
   },
   "outputs": [
    {
     "name": "stderr",
     "output_type": "stream",
     "text": [
      "/Users/rocio/anaconda3/lib/python3.7/site-packages/ipykernel_launcher.py:57: DeprecationWarning: Calling np.sum(generator) is deprecated, and in the future will give a different result. Use np.sum(np.fromiter(generator)) or the python sum builtin instead.\n"
     ]
    },
    {
     "name": "stdout",
     "output_type": "stream",
     "text": [
      "\u001b[1mObserved Chi-Square = \u001b[0m 0.22665108455370453\n",
      "\u001b[1mCritical Chi-Square Value for 1% = \u001b[0m 0.22143443049468592\n",
      "\u001b[1mP-value = \u001b[0m 0.007 **\n",
      "\u001b[1mH0:\u001b[0mThe observed frequency distribution fits the expected frequency distribution.\n",
      "\u001b[1m*** \u001b[0mrejects null hypothesis for an alpha of 0.1%\n",
      "\u001b[1m**  \u001b[0mrejects null hypothesis for an alpha of 1%\n",
      "\u001b[1m*   \u001b[0mrejects null hypothesis for an alpha of 5%\n"
     ]
    }
   ],
   "source": [
    "calculate_chi(initial, final, buckettype = 'bins', buckets = 10, axis = 0)"
   ]
  }
 ],
 "metadata": {
  "colab": {
   "collapsed_sections": [],
   "name": "Copy of Final_Chi_Square.ipynb",
   "provenance": []
  },
  "kernelspec": {
   "display_name": "Python 3",
   "language": "python",
   "name": "python3"
  },
  "language_info": {
   "codemirror_mode": {
    "name": "ipython",
    "version": 3
   },
   "file_extension": ".py",
   "mimetype": "text/x-python",
   "name": "python",
   "nbconvert_exporter": "python",
   "pygments_lexer": "ipython3",
   "version": "3.7.3"
  }
 },
 "nbformat": 4,
 "nbformat_minor": 1
}
