{
 "cells": [
  {
   "cell_type": "markdown",
   "metadata": {},
   "source": [
    "## 1. Import Libraries\n",
    "\n",
    "Import the libraries needed to run the notebook."
   ]
  },
  {
   "cell_type": "code",
   "execution_count": 4,
   "metadata": {
    "colab": {},
    "colab_type": "code",
    "id": "mWYx7FjN3-gb"
   },
   "outputs": [],
   "source": [
    "%matplotlib inline\n",
    "import numpy as np\n",
    "import pandas as pd\n",
    "import seaborn as sns\n",
    "import matplotlib.pyplot as plt\n",
    "import math\n",
    "from random import randint"
   ]
  },
  {
   "cell_type": "markdown",
   "metadata": {},
   "source": [
    "Import class to create bold print statements."
   ]
  },
  {
   "cell_type": "code",
   "execution_count": 5,
   "metadata": {},
   "outputs": [],
   "source": [
    "class color:\n",
    "  BOLD = '\\033[1m'\n",
    "  END = '\\033[0m'"
   ]
  },
  {
   "cell_type": "markdown",
   "metadata": {},
   "source": [
    "## 2. Create Random Sample\n",
    "\n",
    "Create the random sample to test the function."
   ]
  },
  {
   "cell_type": "code",
   "execution_count": 6,
   "metadata": {
    "colab": {},
    "colab_type": "code",
    "id": "zzMFqZ334BH0"
   },
   "outputs": [],
   "source": [
    "rs = np.random.RandomState(42)\n",
    "\n",
    "original = rs.normal(size = 100)\n",
    "new = rs.normal(loc = 0.2, size = 100)"
   ]
  },
  {
   "cell_type": "markdown",
   "metadata": {},
   "source": [
    "## 3. Create function\n",
    "\n",
    "Create the function to calculate the chi-square."
   ]
  },
  {
   "cell_type": "code",
   "execution_count": 7,
   "metadata": {
    "colab": {},
    "colab_type": "code",
    "id": "4ughNY3q4BiK"
   },
   "outputs": [],
   "source": [
    "def calculate_psi(original, new, buckettype = 'bins', number = 10):\n",
    "  '''Calculate the PSI across all variables\n",
    "\n",
    "    Args:\n",
    "       original: numpy matrix of original values\n",
    "       new: numpy matrix of new values, same size as expected\n",
    "       number: enter the number of buckets\n",
    "\n",
    "    Returns:\n",
    "       psi_value: ndarray of PSI values for each variable\n",
    "\n",
    "  '''\n",
    "\n",
    "  def scaled(breakpoints, min, max):\n",
    "    breakpoints += -(np.min(breakpoints))\n",
    "    breakpoints /= np.max(breakpoints) / (max - min)\n",
    "    breakpoints += min\n",
    "    return breakpoints\n",
    "\n",
    "  def sub_psi(og_perc, new_perc):\n",
    "    '''\n",
    "    Calculate the observed PSI value from comparing the values.\n",
    "    Update the observed value to a very small number if equal to zero.\n",
    "    '''\n",
    "\n",
    "    if new_perc == 0:\n",
    "      new_perc = 0.0001\n",
    "    if og_perc == 0:\n",
    "      og_perc = 0.0001\n",
    "    subpsi = (og_perc - new_perc) * np.log(og_perc/new_perc)\n",
    "    return(subpsi)\n",
    "\n",
    "  def psi_finder(original, new, buckettype = 'bins', number = 10):\n",
    "    raw_breakp = np.arange(0, number + 1) / (number) * 100\n",
    "\n",
    "    if buckettype == 'bins':\n",
    "      breakpoints = scaled(raw_breakp, np.min(original), np.max(original))\n",
    "    elif buckettype == 'quantiles':\n",
    "      breakpoints = np.stack([np.percentile(original, b) for b in raw_breakp])\n",
    "\n",
    "    og_counts = np.histogram(original, breakpoints)[0]\n",
    "    new_counts = np.histogram(new, breakpoints)[0]\n",
    "\n",
    "    og_perc = og_counts / len(original)\n",
    "    new_perc = new_counts / len(new)\n",
    "\n",
    "    psi_value = 0\n",
    "    for i in range(0, len(og_perc)):\n",
    "      psi_value += sub_psi(og_perc[i], new_perc[i])\n",
    "\n",
    "    return(psi_value)\n",
    "    \n",
    "  data = pd.DataFrame([])\n",
    "\n",
    "  for i in np.arange(1000): #generates 1000 samples\n",
    "    bs_sample = np.random.choice(original,len(original)) #creating bootstrap sample\n",
    "    calculated_psi=psi_finder(original,bs_sample)\n",
    "    data = data.append(pd.DataFrame({'calculated_psi': calculated_psi}, index=[0]), ignore_index=True)\n",
    "\n",
    "  critical_value_05 = data.quantile(0.95)\n",
    "\n",
    "  critical_value_01 = data.quantile(0.99)\n",
    "  \n",
    "\n",
    "  critical_value_001 = data.quantile(0.999)\n",
    "  \n",
    "\n",
    "    # Calculate the PSI for the random sample, generated at the begining.\n",
    "  psi_val = psi_finder(original, new)\n",
    "    # Get the p-value for this PSI.\n",
    "  p_value = sum(data['calculated_psi'] > psi_val) / len(data)\n",
    "  \n",
    "\n",
    "  if p_value <= 0.001:\n",
    "    print(color.BOLD +\"Observed PSI = \"+ color.END, psi_val)\n",
    "    print(color.BOLD +\"Critical PSI Value for 0.1% = \"+ color.END, critical_value_001['calculated_psi'], '\\n')\n",
    "    print(color.BOLD +\"P-value = \"+ color.END, p_value, \"***\")\n",
    "    print(color.BOLD +\"H0:\"+ color.END + \"Both samples are equal.\")\n",
    "    print(color.BOLD + '*** ' + color.END + 'rejects null hypothesis for an alpha of 0.1%')\n",
    "    print(color.BOLD + '**  ' + color.END + 'rejects null hypothesis for an alpha of 1%')\n",
    "    print(color.BOLD + '*   ' + color.END + 'rejects null hypothesis for an alpha of 5%')\n",
    "  elif (p_value > 0.001 and p_value <= 0.01):\n",
    "    print(color.BOLD +\"Observed PSI = \"+ color.END, psi_val)\n",
    "    print(color.BOLD +\"Critical PSI Value for 1% = \"+ color.END, critical_value_01['calculated_psi'])\n",
    "    print(color.BOLD +\"P-value = \"+ color.END, p_value, \"**\")\n",
    "    print(color.BOLD +\"H0:\"+ color.END + \"Both samples are equal.\")\n",
    "    print(color.BOLD + '*** ' + color.END + 'rejects null hypothesis for an alpha of 0.1%')\n",
    "    print(color.BOLD + '**  ' + color.END + 'rejects null hypothesis for an alpha of 1%')\n",
    "    print(color.BOLD + '*   ' + color.END + 'rejects null hypothesis for an alpha of 5%')\n",
    "  elif (p_value > 0.01 and p_value <= 0.05):\n",
    "    print(color.BOLD +\"Observed PSI = \"+ color.END, psi_val)\n",
    "    print(color.BOLD +\"Critical PSI Value for 5% = \"+ color.END, critical_value_05['calculated_psi'])\n",
    "    print(color.BOLD +\"P-value = \"+ color.END, p_value, \"*\")\n",
    "    print(color.BOLD +\"H0:\"+ color.END + \"Both samples are equal.\")\n",
    "    print(color.BOLD + '*** ' + color.END + 'rejects null hypothesis for an alpha of 0.1%')\n",
    "    print(color.BOLD + '**  ' + color.END + 'rejects null hypothesis for an alpha of 1%')\n",
    "    print(color.BOLD + '*   ' + color.END + 'rejects null hypothesis for an alpha of 5%')\n",
    "  else:\n",
    "    print(color.BOLD +\"Observed PSI = \"+ color.END, psi_val)\n",
    "    print(color.BOLD +\"P-value = \"+ color.END, p_value)\n",
    "    print(color.BOLD +\"H0:\"+ color.END + \"Both samples are equal.\")\n",
    "    print(color.BOLD + '*** ' + color.END + 'rejects null hypothesis for an alpha of 0.1%')\n",
    "    print(color.BOLD + '**  ' + color.END + 'rejects null hypothesis for an alpha of 1%')\n",
    "    print(color.BOLD + '*   ' + color.END + 'rejects null hypothesis for an alpha of 5%')\n"
   ]
  },
  {
   "cell_type": "code",
   "execution_count": 8,
   "metadata": {
    "colab": {
     "base_uri": "https://localhost:8080/",
     "height": 187
    },
    "colab_type": "code",
    "id": "rwrHirfi6TOA",
    "outputId": "d45cb5e3-2f7b-40e3-9fa8-69106f0efe55"
   },
   "outputs": [
    {
     "name": "stdout",
     "output_type": "stream",
     "text": [
      "\u001b[1mObserved PSI = \u001b[0m 0.38284263578834205\n",
      "\u001b[1mCritical PSI Value for 1% = \u001b[0m 0.36440466430865887\n",
      "\u001b[1mP-value = \u001b[0m 0.008 **\n",
      "\u001b[1mH0:\u001b[0mBoth samples are equal.\n",
      "\u001b[1m*** \u001b[0mrejects null hypothesis for an alpha of 0.1%\n",
      "\u001b[1m**  \u001b[0mrejects null hypothesis for an alpha of 1%\n",
      "\u001b[1m*   \u001b[0mrejects null hypothesis for an alpha of 5%\n"
     ]
    }
   ],
   "source": [
    "calculate_psi(original,new)"
   ]
  }
 ],
 "metadata": {
  "colab": {
   "name": "PSI_Final2",
   "provenance": []
  },
  "kernelspec": {
   "display_name": "Python 3",
   "language": "python",
   "name": "python3"
  },
  "language_info": {
   "codemirror_mode": {
    "name": "ipython",
    "version": 3
   },
   "file_extension": ".py",
   "mimetype": "text/x-python",
   "name": "python",
   "nbconvert_exporter": "python",
   "pygments_lexer": "ipython3",
   "version": "3.7.3"
  }
 },
 "nbformat": 4,
 "nbformat_minor": 1
}
