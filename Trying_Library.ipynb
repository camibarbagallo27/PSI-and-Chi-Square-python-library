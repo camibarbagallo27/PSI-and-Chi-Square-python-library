{
 "cells": [
  {
   "cell_type": "code",
   "execution_count": 1,
   "metadata": {},
   "outputs": [],
   "source": [
    "from Chi_Psi import PSI\n",
    "from Chi_Psi import ChiSquare\n",
    "import numpy as np\n",
    "import pandas as pd"
   ]
  },
  {
   "cell_type": "code",
   "execution_count": 2,
   "metadata": {},
   "outputs": [],
   "source": [
    "rs = np.random.RandomState(42)\n",
    "\n",
    "original = rs.normal(size = 100)\n",
    "new = rs.normal(loc = 0.2, size = 100)"
   ]
  },
  {
   "cell_type": "markdown",
   "metadata": {},
   "source": [
    "## 1. Chi-Square"
   ]
  },
  {
   "cell_type": "code",
   "execution_count": 3,
   "metadata": {},
   "outputs": [
    {
     "name": "stdout",
     "output_type": "stream",
     "text": [
      "\u001b[1mObserved Chi-Square = \u001b[0m 0.14927994205098308\n",
      "\u001b[1mP-value = \u001b[0m 0.095\n",
      "\u001b[1mH0:\u001b[0mThe observed frequency distribution fits the expected frequency distribution.\n",
      "\u001b[1m*** \u001b[0mrejects null hypothesis for an alpha of 0.1%\n",
      "\u001b[1m**  \u001b[0mrejects null hypothesis for an alpha of 1%\n",
      "\u001b[1m*   \u001b[0mrejects null hypothesis for an alpha of 5%\n"
     ]
    }
   ],
   "source": [
    "#ChiSquare\n",
    "ChiSquare.calculate_chi(original, new, buckettype = 'bins', buckets = 10, axis = 0)\n",
    "\n"
   ]
  },
  {
   "cell_type": "markdown",
   "metadata": {},
   "source": [
    "## 2. PSI"
   ]
  },
  {
   "cell_type": "code",
   "execution_count": 4,
   "metadata": {},
   "outputs": [
    {
     "name": "stdout",
     "output_type": "stream",
     "text": [
      "\u001b[1mObserved PSI = \u001b[0m 0.38284263578834205\n",
      "\u001b[1mCritical PSI Value for 1% = \u001b[0m 0.34323195022872377\n",
      "\u001b[1mP-value = \u001b[0m 0.007 **\n",
      "\u001b[1mH0:\u001b[0mBoth samples are equal.\n",
      "\u001b[1m*** \u001b[0mrejects null hypothesis for an alpha of 0.1%\n",
      "\u001b[1m**  \u001b[0mrejects null hypothesis for an alpha of 1%\n",
      "\u001b[1m*   \u001b[0mrejects null hypothesis for an alpha of 5%\n"
     ]
    }
   ],
   "source": [
    "#PSI\n",
    "PSI.calculate_psi(original, new, buckettype='bins', number=10)"
   ]
  }
 ],
 "metadata": {
  "kernelspec": {
   "display_name": "Python 3",
   "language": "python",
   "name": "python3"
  },
  "language_info": {
   "codemirror_mode": {
    "name": "ipython",
    "version": 3
   },
   "file_extension": ".py",
   "mimetype": "text/x-python",
   "name": "python",
   "nbconvert_exporter": "python",
   "pygments_lexer": "ipython3",
   "version": "3.7.4"
  }
 },
 "nbformat": 4,
 "nbformat_minor": 2
}
